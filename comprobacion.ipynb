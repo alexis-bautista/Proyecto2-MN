{
 "cells": [
  {
   "cell_type": "code",
   "execution_count": 55,
   "metadata": {},
   "outputs": [
    {
     "name": "stdout",
     "output_type": "stream",
     "text": [
      "Azimuth (°): 204.21076927234049\n",
      "Elevation (°): -73.73129744382415\n",
      "Roll (°): -0.11513907149839318\n",
      "Pitch (°): 14.904275898784148\n",
      "Comprobacion (°): 14.904275898784153\n"
     ]
    }
   ],
   "source": [
    "from pysolar.solar import get_altitude, get_azimuth\n",
    "from datetime import datetime\n",
    "from pytz import timezone\n",
    "import numpy as np\n",
    "\n",
    "def getSolarPosition(\n",
    "    latitude: float = -0.2105367,\n",
    "    longitude: float = -78.491614,\n",
    "    date: datetime = None,\n",
    "):\n",
    "    if date is None:\n",
    "        date = datetime.now(tz=timezone(\"America/Guayaquil\"))\n",
    "    \n",
    "    az = get_azimuth(latitude, longitude, date)\n",
    "    el = get_altitude(latitude, longitude, date)\n",
    "\n",
    "    return np.radians(az), np.radians(el)\n",
    "\n",
    "az, el = getSolarPosition(-0.2105367, -78.491614, datetime.now(tz=timezone(\"America/Guayaquil\")))\n",
    "print(\"Azimuth (°):\", np.degrees(az))\n",
    "print(\"Elevation (°):\", np.degrees(el))\n",
    "\n",
    "roll = np.arcsin(np.sin(az) * np.cos(el))\n",
    "pitch = np.arcsin(-((np.cos(az) * np.cos(el)) / np.cos(roll)))\n",
    "pitch_deg = np.degrees(pitch)\n",
    "comprobacion = np.arccos(np.cos(pitch))\n",
    "\n",
    "print(\"Roll (°):\", roll)\n",
    "print(\"Pitch (°):\", pitch_deg)\n",
    "print(\"Comprobacion (°):\", np.degrees(comprobacion))"
   ]
  }
 ],
 "metadata": {
  "kernelspec": {
   "display_name": "Python 3",
   "language": "python",
   "name": "python3"
  },
  "language_info": {
   "codemirror_mode": {
    "name": "ipython",
    "version": 3
   },
   "file_extension": ".py",
   "mimetype": "text/x-python",
   "name": "python",
   "nbconvert_exporter": "python",
   "pygments_lexer": "ipython3",
   "version": "3.13.0"
  }
 },
 "nbformat": 4,
 "nbformat_minor": 2
}
